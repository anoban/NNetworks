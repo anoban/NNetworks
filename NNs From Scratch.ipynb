{
 "cells": [
  {
   "cell_type": "markdown",
   "id": "e9e269e8-6a3a-4fa4-b9e2-4979d77b7c50",
   "metadata": {},
   "source": [
    "# ***Neural Networks From Scratch***\n",
    "------------------"
   ]
  },
  {
   "cell_type": "code",
   "execution_count": 88,
   "id": "ed17e619-38d0-41b4-83fd-728712a0471d",
   "metadata": {
    "execution": {
     "iopub.execute_input": "2024-01-21T14:32:26.549507Z",
     "iopub.status.busy": "2024-01-21T14:32:26.549507Z",
     "iopub.status.idle": "2024-01-21T14:32:26.558921Z",
     "shell.execute_reply": "2024-01-21T14:32:26.558921Z",
     "shell.execute_reply.started": "2024-01-21T14:32:26.549507Z"
    }
   },
   "outputs": [],
   "source": [
    "# tutorial following https://www.youtube.com/watch?v=w8yWXqWQYmU\n",
    "# using both MNIST and Fashion-MNIST datasets"
   ]
  },
  {
   "cell_type": "code",
   "execution_count": 1,
   "id": "21511f93-594b-4e8b-82ff-ef4c44c3dee5",
   "metadata": {
    "execution": {
     "iopub.execute_input": "2024-01-25T10:47:44.982837Z",
     "iopub.status.busy": "2024-01-25T10:47:44.982837Z",
     "iopub.status.idle": "2024-01-25T10:47:50.654785Z",
     "shell.execute_reply": "2024-01-25T10:47:50.654785Z",
     "shell.execute_reply.started": "2024-01-25T10:47:44.982837Z"
    }
   },
   "outputs": [],
   "source": []
  },
  {
   "cell_type": "markdown",
   "id": "2ed9fefd-b0d8-4a7c-a68e-781d12886508",
   "metadata": {},
   "source": [
    "# ***Digit classification using MNIST***\n",
    "-------------------"
   ]
  },
  {
   "cell_type": "markdown",
   "id": "855df566-2245-4dde-9e4d-d17821972ead",
   "metadata": {},
   "source": [
    "![MNIST](./MNIST/MnistExamplesModified.png)"
   ]
  },
  {
   "cell_type": "code",
   "execution_count": 4,
   "id": "243e1f9a-497f-4f3b-8046-42e3b04f39b5",
   "metadata": {
    "execution": {
     "iopub.execute_input": "2024-01-25T11:02:07.557598Z",
     "iopub.status.busy": "2024-01-25T11:02:07.556569Z",
     "iopub.status.idle": "2024-01-25T11:02:07.560800Z",
     "shell.execute_reply": "2024-01-25T11:02:07.560694Z",
     "shell.execute_reply.started": "2024-01-25T11:02:07.557598Z"
    }
   },
   "outputs": [],
   "source": [
    "# each image is a black and white 28 x 28 pixels array of 8 bit unsigned integers (8 bit pixel depth)\n",
    "# pixel values range from 0 (white) to 255 (black)\n",
    "\n",
    "# pixels per image\n",
    "# 28 x 28 = 784"
   ]
  },
  {
   "cell_type": "code",
   "execution_count": 1,
   "id": "07e7d11a-56e5-47e8-a1d0-571a0ffbcd3e",
   "metadata": {
    "execution": {
     "iopub.execute_input": "2024-01-30T01:19:01.431207Z",
     "iopub.status.busy": "2024-01-30T01:19:01.431207Z",
     "iopub.status.idle": "2024-01-30T01:19:01.446482Z",
     "shell.execute_reply": "2024-01-30T01:19:01.445293Z",
     "shell.execute_reply.started": "2024-01-30T01:19:01.431207Z"
    }
   },
   "outputs": [],
   "source": [
    "# we could visualize the images as a matrix with N rows for each image with PPIMAGE number of columns\n",
    "# when we transpose this we get a matrix where each column is made of PPIMAGE pixels from each image and \n",
    "# each row represents nth pixel from every image\n",
    "\n",
    "# n - total number of pixels\n",
    "# N - total number of images"
   ]
  },
  {
   "cell_type": "markdown",
   "id": "909eb262-40dc-4259-924b-6bbaf10cde71",
   "metadata": {},
   "source": [
    "# $${\\underbrace{\\begin{bmatrix}\n",
    "X_{0} \\dots X_{784} \\\\\n",
    "X_{785} \\dots X_{1568} \\\\\n",
    "\\dots \\\\\n",
    "\\dots \\\\\n",
    "\\dots \\\\\n",
    "\\dots \\\\\n",
    "X_{n - 784} \\dots X_{n}\\\\\n",
    "\\end{bmatrix}}_{N \\times 784}}^T = \n",
    "\\underbrace{\\begin{bmatrix}\n",
    "X_{0} & X_{785} & \\dots & X_{n - 784}\\\\\n",
    "\\vdots & \\vdots & \\vdots & \\vdots \\\\\n",
    "X_{784} & X_{1568} & \\dots & X_{n}\\\\\n",
    "\\end{bmatrix}}_{784 \\times N}\n",
    "$$"
   ]
  },
  {
   "cell_type": "code",
   "execution_count": 5,
   "id": "6daae00f-c127-4325-bd32-2b9d3725619a",
   "metadata": {
    "execution": {
     "iopub.execute_input": "2024-01-25T11:08:40.922065Z",
     "iopub.status.busy": "2024-01-25T11:08:40.922065Z",
     "iopub.status.idle": "2024-01-25T11:08:40.927076Z",
     "shell.execute_reply": "2024-01-25T11:08:40.927076Z",
     "shell.execute_reply.started": "2024-01-25T11:08:40.922065Z"
    }
   },
   "outputs": [],
   "source": [
    "# our predictions will be the digit class (0..9)!\n",
    "# we'll start with a simple neural network with just 3 layers.\n",
    "\n",
    "# one input layer with 784 nodes (0th layer)\n",
    "# one hidden layer with 10 nodes (1st layer)\n",
    "# and an output layer with 10 nodes (2nd layer)"
   ]
  },
  {
   "cell_type": "code",
   "execution_count": 6,
   "id": "c43f2501-c380-4f7f-9b53-084f39e56c61",
   "metadata": {
    "execution": {
     "iopub.execute_input": "2024-01-22T11:50:49.040385Z",
     "iopub.status.busy": "2024-01-22T11:50:49.040385Z",
     "iopub.status.idle": "2024-01-22T11:50:49.049159Z",
     "shell.execute_reply": "2024-01-22T11:50:49.049159Z",
     "shell.execute_reply.started": "2024-01-22T11:50:49.040385Z"
    }
   },
   "outputs": [],
   "source": [
    "# the input layer does not really have any parameters.\n",
    "# it's just the inputs.\n",
    "# every node in the input layer corresponds to each of the pixel in the image, hence 784 nodes.\n",
    "# similarly, the output layer corresponds to each of the 10 digits that could be recognized, hence 10 nodes."
   ]
  },
  {
   "cell_type": "code",
   "execution_count": null,
   "id": "923e1d1f-068c-40a7-bb95-8221a186415b",
   "metadata": {},
   "outputs": [],
   "source": []
  },
  {
   "cell_type": "code",
   "execution_count": 2,
   "id": "20a83c9f-b9db-411d-998c-f8363dcc8f00",
   "metadata": {
    "execution": {
     "iopub.execute_input": "2024-01-25T10:49:20.620450Z",
     "iopub.status.busy": "2024-01-25T10:49:20.620450Z",
     "iopub.status.idle": "2024-01-25T10:49:20.633525Z",
     "shell.execute_reply": "2024-01-25T10:49:20.632509Z",
     "shell.execute_reply.started": "2024-01-25T10:49:20.620450Z"
    }
   },
   "outputs": [],
   "source": [
    "# Neural network with just one hidden layer"
   ]
  },
  {
   "cell_type": "markdown",
   "id": "390e7e28-fa90-4d6a-9105-9c60bbb5948c",
   "metadata": {},
   "source": [
    "# $$I \\Longrightarrow H \\Longrightarrow O$$"
   ]
  },
  {
   "cell_type": "code",
   "execution_count": null,
   "id": "4489e832-558b-45a0-a0ce-de04c216fda0",
   "metadata": {},
   "outputs": [],
   "source": [
    "# In a neural network nodes hold results and connections hold weights"
   ]
  },
  {
   "cell_type": "markdown",
   "id": "b1a8c91f-3aba-4058-9b99-f9199938cc50",
   "metadata": {},
   "source": [
    "# ***Math: Forward propagation***\n",
    "------------------"
   ]
  },
  {
   "cell_type": "markdown",
   "id": "8057d224-1cca-499b-8c67-493b5f6466f0",
   "metadata": {},
   "source": [
    "# $\\underbrace{M}_{R \\times C}$"
   ]
  },
  {
   "cell_type": "code",
   "execution_count": 12,
   "id": "cf34393c-341d-4b65-a136-c5077691ca1e",
   "metadata": {
    "execution": {
     "iopub.execute_input": "2024-01-25T12:15:06.242388Z",
     "iopub.status.busy": "2024-01-25T12:15:06.242388Z",
     "iopub.status.idle": "2024-01-25T12:15:06.254918Z",
     "shell.execute_reply": "2024-01-25T12:15:06.254918Z",
     "shell.execute_reply.started": "2024-01-25T12:15:06.242388Z"
    }
   },
   "outputs": [],
   "source": [
    "# matrix dimension notation:\n",
    "\n",
    "# R = |rows|\n",
    "# C = |columns|"
   ]
  },
  {
   "cell_type": "code",
   "execution_count": 27,
   "id": "d28b967b-ac00-424a-813b-762753003057",
   "metadata": {
    "execution": {
     "iopub.execute_input": "2024-01-22T12:05:06.833832Z",
     "iopub.status.busy": "2024-01-22T12:05:06.833832Z",
     "iopub.status.idle": "2024-01-22T12:05:06.841993Z",
     "shell.execute_reply": "2024-01-22T12:05:06.841993Z",
     "shell.execute_reply.started": "2024-01-22T12:05:06.833832Z"
    }
   },
   "outputs": [],
   "source": [
    "# forward propagation\n",
    "# N is the number of images in the dataset\n",
    "\n",
    "# I represents the input layer, that takes in the raw pixels\n",
    "# we are passing images one by one"
   ]
  },
  {
   "cell_type": "markdown",
   "id": "cce5d1e0-e2d0-4495-94f1-8591859e12af",
   "metadata": {},
   "source": [
    "## $\\underbrace{I}_{784 \\times N} = |pixels| \\times |images|$"
   ]
  },
  {
   "cell_type": "code",
   "execution_count": 11,
   "id": "cce861e1-2868-44ac-bcb0-3fbbb9d1e7eb",
   "metadata": {
    "execution": {
     "iopub.execute_input": "2024-01-25T12:08:54.469845Z",
     "iopub.status.busy": "2024-01-25T12:08:54.469845Z",
     "iopub.status.idle": "2024-01-25T12:08:54.482135Z",
     "shell.execute_reply": "2024-01-25T12:08:54.481110Z",
     "shell.execute_reply.started": "2024-01-25T12:08:54.469845Z"
    }
   },
   "outputs": [],
   "source": [
    "# H is the hidden layer\n",
    "\n",
    "# H is the unactivated hidden layer\n",
    "# W is the weights of the connections between the 784 nodes in the input layer and the 10 nodes in the hidden layer\n",
    "# I is input layer (representing N images each with 784 pixels)\n",
    "# W x A is the matrix dot product of W and A\n",
    "# B is constant bias values for each node in the hidden layer"
   ]
  },
  {
   "cell_type": "markdown",
   "id": "adaae5bd-705a-47bb-8293-fa4da78a9167",
   "metadata": {
    "execution": {
     "iopub.execute_input": "2024-01-22T11:50:49.777625Z",
     "iopub.status.busy": "2024-01-22T11:50:49.777625Z",
     "iopub.status.idle": "2024-01-22T11:50:49.783739Z",
     "shell.execute_reply": "2024-01-22T11:50:49.783739Z",
     "shell.execute_reply.started": "2024-01-22T11:50:49.777625Z"
    }
   },
   "source": [
    "## $\\underbrace{H}_{10 \\times N} = \\underbrace{W}_{784 \\times 10} \\cdot \\underbrace{I}_{784 \\times N} + \\underbrace{B}_{10 \\times 1}$"
   ]
  },
  {
   "cell_type": "code",
   "execution_count": 28,
   "id": "0b17e81d-6bb5-4b63-bf02-29265512bd5a",
   "metadata": {
    "execution": {
     "iopub.execute_input": "2024-01-22T12:21:17.147891Z",
     "iopub.status.busy": "2024-01-22T12:21:17.147891Z",
     "iopub.status.idle": "2024-01-22T12:21:17.157819Z",
     "shell.execute_reply": "2024-01-22T12:21:17.157819Z",
     "shell.execute_reply.started": "2024-01-22T12:21:17.147891Z"
    }
   },
   "outputs": [],
   "source": [
    "# H hat is the activated hidden layer\n",
    "\n",
    "# H hat is the result of applying an activation function to the unactivated the hidden layer"
   ]
  },
  {
   "cell_type": "markdown",
   "id": "af623ab9-f6a6-4b85-95f9-cb319d63c126",
   "metadata": {},
   "source": [
    "## $\\underbrace{\\hat{H}}_{10 \\times N} = \\underbrace{f_{activation}(H)}_{10 \\times N}$"
   ]
  },
  {
   "cell_type": "code",
   "execution_count": 30,
   "id": "3c75466a-a2dd-45d4-bb3d-9aa56fd970d1",
   "metadata": {
    "execution": {
     "iopub.execute_input": "2024-01-22T12:28:30.368549Z",
     "iopub.status.busy": "2024-01-22T12:28:30.368549Z",
     "iopub.status.idle": "2024-01-22T12:28:30.371936Z",
     "shell.execute_reply": "2024-01-22T12:28:30.371936Z",
     "shell.execute_reply.started": "2024-01-22T12:28:30.368549Z"
    }
   },
   "outputs": [],
   "source": [
    "# there are multiple activation functions available\n",
    "# our choice for the activation fucntion will be ReLU (Rectified Linear Unit)\n",
    "# so, H hat becomes,"
   ]
  },
  {
   "cell_type": "markdown",
   "id": "7591250f-3d92-4d5a-a0bf-92c9ebb55be8",
   "metadata": {},
   "source": [
    "## $\\underbrace{\\hat{H}}_{10 \\times N} = \\underbrace{ReLU(H)}_{10 \\times N}$\n",
    "\n",
    "## $$ReLU(x): ~ x ~ if ~ (x > 0) ~ else ~ 0$$"
   ]
  },
  {
   "cell_type": "code",
   "execution_count": null,
   "id": "6d723bb9-ba68-40d0-ba45-4f9606a5baff",
   "metadata": {},
   "outputs": [],
   "source": [
    "# ReLu is a very simple function, it returns x when x > 0 and returns 0 when x <= 0"
   ]
  },
  {
   "cell_type": "code",
   "execution_count": null,
   "id": "a4c116bb-ab0d-42ee-a2b3-37c2e7a5c63c",
   "metadata": {},
   "outputs": [],
   "source": [
    "# without an activation function, a neural network won't be able to do anything extraordinary\n",
    "# if all we did was to add layers with weights and biases, we'll end up with a fancy liner combination of weights and biases anda\u0000t\u0000i\u0000o\u0000n\u0000 r\n",
    "# i.e a glorified linear regression model\n",
    "# the activation function is what makes neural networks stand out."
   ]
  },
  {
   "cell_type": "code",
   "execution_count": 7,
   "id": "3b5f6612-4086-42ac-ae8a-58cc423e073c",
   "metadata": {
    "execution": {
     "iopub.execute_input": "2024-01-25T11:31:38.921288Z",
     "iopub.status.busy": "2024-01-25T11:31:38.921288Z",
     "iopub.status.idle": "2024-01-25T11:31:38.926566Z",
     "shell.execute_reply": "2024-01-25T11:31:38.926566Z",
     "shell.execute_reply.started": "2024-01-25T11:31:38.921288Z"
    }
   },
   "outputs": [],
   "source": [
    "# O is our unactivated output layer\n",
    "\n",
    "# w is the weights of connections between each node in the hidden layer and each node in the output layer\n",
    "# H hat is the activated hidden layer\n",
    "# b is constant bias term for each node in the output layer"
   ]
  },
  {
   "cell_type": "markdown",
   "id": "271a9f18-ea30-4bc5-a9c4-f9caca531387",
   "metadata": {},
   "source": [
    "## $\\underbrace{O}_{10 \\times N} = \\underbrace{w}_{10 \\times 10} \\cdot \\underbrace{\\hat{H}}_{10 \\times N} + \\underbrace{b}_{10 \\times 1}$"
   ]
  },
  {
   "cell_type": "code",
   "execution_count": 35,
   "id": "9872bd05-584a-4e21-aa9b-83e3c33a6416",
   "metadata": {
    "execution": {
     "iopub.execute_input": "2024-01-22T12:48:42.755709Z",
     "iopub.status.busy": "2024-01-22T12:48:42.754687Z",
     "iopub.status.idle": "2024-01-22T12:48:42.758814Z",
     "shell.execute_reply": "2024-01-22T12:48:42.758297Z",
     "shell.execute_reply.started": "2024-01-22T12:48:42.755709Z"
    }
   },
   "outputs": [],
   "source": [
    "# O hat is the activated output layer\n",
    "\n",
    "# the activation function we choose to use here is softmax\n",
    "# softmax function turns the output layer into probabilities\n",
    "# this distributes probabilities for each of the node in the output layer, corresponding to the 10 digit labels\n",
    "# sum of all these 10 probabilities will be 1.0\n",
    "# the node with the highest probability will be picked as the label for the given image (array of pixels)"
   ]
  },
  {
   "cell_type": "markdown",
   "id": "4abc2e6a-31f6-497a-9b52-f417a05b9808",
   "metadata": {},
   "source": [
    "## $\\underbrace{\\hat{O}}_{10 \\times 1} = \\underbrace{f_{softmax}(O)}_{10 \\times 1}$"
   ]
  },
  {
   "cell_type": "code",
   "execution_count": null,
   "id": "c0acd481-3848-466f-9bb3-a56cfac3abf7",
   "metadata": {},
   "outputs": [],
   "source": [
    "# values of each node in the output layer gets transformed into probabilities for each label"
   ]
  },
  {
   "cell_type": "markdown",
   "id": "7def4646-f75f-4ae5-84b0-e7c523cc7664",
   "metadata": {},
   "source": [
    "## $$softmax(\\underbrace{\\begin{bmatrix}\n",
    "0.9 \\\\\n",
    "1.7 \\\\\n",
    "8.4 \\\\\n",
    "\\vdots \\\\\n",
    "2.1 \\\\\n",
    "8.5 \\\\\n",
    "9.1 \\\\\n",
    "\\end{bmatrix}}_{10 \\times 1}) = \n",
    "\\underbrace{\\begin{bmatrix}\n",
    "0.10 \\\\\n",
    "0.23 \\\\\n",
    "0.00 \\\\\n",
    "\\vdots \\\\\n",
    "0.74 \\\\\n",
    "0.01 \\\\\n",
    "0.01 \\\\\n",
    "\\end{bmatrix}}_{10 \\times 1}$$"
   ]
  },
  {
   "cell_type": "code",
   "execution_count": null,
   "id": "3bbb39c8-2ed5-4525-88c4-b33b2e240401",
   "metadata": {},
   "outputs": [],
   "source": [
    "# in the above example, we'll pick 7 as the label for the given image"
   ]
  },
  {
   "cell_type": "code",
   "execution_count": 36,
   "id": "17bb3812-88b9-4b6f-b494-986315dc33e9",
   "metadata": {
    "execution": {
     "iopub.execute_input": "2024-01-22T12:56:51.222592Z",
     "iopub.status.busy": "2024-01-22T12:56:51.222592Z",
     "iopub.status.idle": "2024-01-22T12:56:51.236275Z",
     "shell.execute_reply": "2024-01-22T12:56:51.236222Z",
     "shell.execute_reply.started": "2024-01-22T12:56:51.222592Z"
    }
   },
   "outputs": [],
   "source": [
    "# softmax activation function:"
   ]
  },
  {
   "cell_type": "markdown",
   "id": "1169dc4b-dc30-4efa-8b75-492fd2f690a2",
   "metadata": {},
   "source": [
    "# $$softmax = \\frac{e^O}{\\sum_{j = 1}^{K} {e_{j}}^O}$$"
   ]
  },
  {
   "cell_type": "code",
   "execution_count": null,
   "id": "83cf75e1-e31b-474e-a3c7-5599cd8e254c",
   "metadata": {},
   "outputs": [],
   "source": [
    "# K is the dimension of the softmax activated layer\n",
    "# in our case K = 10\n",
    "# softmax result is equal to e^(node of choice) / sum of e^(node) for all nodes in the softmax activated layer\n",
    "# after the softmax activation, each output will be in the range of 0 and 1."
   ]
  },
  {
   "cell_type": "code",
   "execution_count": null,
   "id": "18abd268-ff74-4660-ae56-038827fd00d9",
   "metadata": {},
   "outputs": [],
   "source": []
  },
  {
   "cell_type": "markdown",
   "id": "f8745a61-dc2a-4a58-bf9e-8ab4a989f921",
   "metadata": {},
   "source": [
    "# ***Math: Back propagation***\n",
    "------------------"
   ]
  },
  {
   "cell_type": "code",
   "execution_count": 37,
   "id": "b1e7b8b1-2c10-4506-b9fc-fb6380dc6132",
   "metadata": {
    "execution": {
     "iopub.execute_input": "2024-01-22T13:11:02.221819Z",
     "iopub.status.busy": "2024-01-22T13:11:02.221819Z",
     "iopub.status.idle": "2024-01-22T13:11:02.238531Z",
     "shell.execute_reply": "2024-01-22T13:11:02.238531Z",
     "shell.execute_reply.started": "2024-01-22T13:11:02.221819Z"
    }
   },
   "outputs": [],
   "source": [
    "# now that we have our predictions, we'll move backwards to compute how much our prediction deviates from the true label (using the training lables)\n",
    "# we'll then determine how much each previous weights and biases contributed to this deviation and\n",
    "# we'll tune those parameters accordingly to lower this difference in the next iteration.\n",
    "# we'll continue doing this until we get the lowest possible/acceptable errors (biases)"
   ]
  },
  {
   "cell_type": "code",
   "execution_count": 38,
   "id": "170d8d37-e2c9-4821-8649-1dc2a82d9a96",
   "metadata": {
    "execution": {
     "iopub.execute_input": "2024-01-22T13:13:22.642273Z",
     "iopub.status.busy": "2024-01-22T13:13:22.642273Z",
     "iopub.status.idle": "2024-01-22T13:13:22.645174Z",
     "shell.execute_reply": "2024-01-22T13:13:22.645174Z",
     "shell.execute_reply.started": "2024-01-22T13:13:22.642273Z"
    }
   },
   "outputs": [],
   "source": [
    "# dO is error of the output layer\n",
    "# we'll subtract the true label from the softmax result\n",
    "# since softmax result is an array of probabilities, we'll one hot encode the true label and do an elementwise subtraction"
   ]
  },
  {
   "cell_type": "markdown",
   "id": "039049c0-6502-4658-a660-4a9020f14c15",
   "metadata": {},
   "source": [
    "## $$prediction = \\underbrace{\\begin{bmatrix}\n",
    "0.01 \\\\\n",
    "0.05 \\\\\n",
    "0.69 \\\\\n",
    "\\vdots \\\\\n",
    "0.00 \\\\\n",
    "0.10 \\\\\n",
    "0.07 \\\\\n",
    "\\end{bmatrix}}_{10 \\times 1}\n",
    "$$"
   ]
  },
  {
   "cell_type": "code",
   "execution_count": 9,
   "id": "d45999d8-e00d-4799-9225-1a6e5b59791f",
   "metadata": {
    "execution": {
     "iopub.execute_input": "2024-01-25T11:45:11.355552Z",
     "iopub.status.busy": "2024-01-25T11:45:11.355552Z",
     "iopub.status.idle": "2024-01-25T11:45:11.368101Z",
     "shell.execute_reply": "2024-01-25T11:45:11.368101Z",
     "shell.execute_reply.started": "2024-01-25T11:45:11.355552Z"
    }
   },
   "outputs": [],
   "source": [
    "# suppose our true label was 2"
   ]
  },
  {
   "cell_type": "markdown",
   "id": "acd138e0-9c83-4e38-9cfa-8d2c4efca5ee",
   "metadata": {},
   "source": [
    "## $$\\text{one hot encoded label} = \\underbrace{\\begin{bmatrix}\n",
    "0 \\\\\n",
    "0 \\\\\n",
    "1 \\\\\n",
    "\\vdots \\\\\n",
    "0 \\\\\n",
    "0 \\\\\n",
    "0 \\\\\n",
    "\\end{bmatrix}}_{10 \\times 1}$$"
   ]
  },
  {
   "cell_type": "code",
   "execution_count": 10,
   "id": "e0e1af84-a5f0-454b-9e6e-f21e32ccc33f",
   "metadata": {
    "execution": {
     "iopub.execute_input": "2024-01-25T11:45:16.064218Z",
     "iopub.status.busy": "2024-01-25T11:45:16.064218Z",
     "iopub.status.idle": "2024-01-25T11:45:16.078167Z",
     "shell.execute_reply": "2024-01-25T11:45:16.078167Z",
     "shell.execute_reply.started": "2024-01-25T11:45:16.064218Z"
    }
   },
   "outputs": [],
   "source": [
    "# to detrmine the error of the output layer,\n",
    "# error = predicted probabilities - one hot encoded probabilities of the correct label"
   ]
  },
  {
   "cell_type": "markdown",
   "id": "773fdc2d-08b0-47e7-ae7b-9a24fa99b0e0",
   "metadata": {},
   "source": [
    "# $$\\underbrace{\\mathrm{d}O}_{10 \\times N} = \\underbrace{\\hat{O}}_{10 \\times N} - \\underbrace{L_{True}}_{10 \\times N}$$"
   ]
  },
  {
   "cell_type": "markdown",
   "id": "a1c1d391-a8f5-4bad-a196-05dd2cfb70d1",
   "metadata": {},
   "source": [
    "## $$\\mathrm{d}O = \\begin{bmatrix}\n",
    "0.01 \\\\\n",
    "0.05 \\\\\n",
    "0.69 \\\\\n",
    "\\vdots \\\\\n",
    "0.00 \\\\\n",
    "0.10 \\\\\n",
    "0.07 \\\\\n",
    "\\end{bmatrix} - \\begin{bmatrix}\n",
    "0 \\\\\n",
    "0 \\\\\n",
    "1 \\\\\n",
    "\\vdots \\\\\n",
    "0 \\\\\n",
    "0 \\\\\n",
    "0 \\\\\n",
    "\\end{bmatrix}$$"
   ]
  },
  {
   "cell_type": "code",
   "execution_count": null,
   "id": "0737ec74-1926-4747-935f-9204c6e4f7db",
   "metadata": {},
   "outputs": [],
   "source": []
  },
  {
   "cell_type": "code",
   "execution_count": 8,
   "id": "18cccb81-f3d8-4961-824e-ae06583d2a0e",
   "metadata": {
    "execution": {
     "iopub.execute_input": "2024-01-25T11:35:00.914686Z",
     "iopub.status.busy": "2024-01-25T11:35:00.914686Z",
     "iopub.status.idle": "2024-01-25T11:35:00.921881Z",
     "shell.execute_reply": "2024-01-25T11:35:00.921881Z",
     "shell.execute_reply.started": "2024-01-25T11:35:00.914686Z"
    }
   },
   "outputs": [],
   "source": [
    "# now the next part is deciding how much w and b (weight and biase from the output layer O) contributed to the deviation from \n",
    "# correct probabilities and predicted probabilities\n",
    "# dw is the derivative of loss function (softmax) with respect to the weights of nodes in output layer\n",
    "\n",
    "# dimensions of H hat is 10 x N\n",
    "# dimensions of transposed H hat is N X 10"
   ]
  },
  {
   "cell_type": "markdown",
   "id": "fe4ded5c-0848-4d41-8e54-d32876270e10",
   "metadata": {},
   "source": [
    "# $$\\mathrm{d}{w} = \\frac{  \\overbrace{\\mathrm{d}{O}}^{10 \\times N} \\cdot   \\overbrace{ \\hat{H}^T}^{N \\times 10}}{N}$$"
   ]
  },
  {
   "cell_type": "code",
   "execution_count": null,
   "id": "18dd7add-d09d-40b4-bbc7-ac1e86f75da9",
   "metadata": {},
   "outputs": [],
   "source": []
  },
  {
   "cell_type": "code",
   "execution_count": 2,
   "id": "ee746195-a844-4bf7-898a-a020452c5548",
   "metadata": {
    "execution": {
     "iopub.execute_input": "2024-01-30T11:01:35.101170Z",
     "iopub.status.busy": "2024-01-30T11:01:35.101170Z",
     "iopub.status.idle": "2024-01-30T11:01:35.111616Z",
     "shell.execute_reply": "2024-01-30T11:01:35.111616Z",
     "shell.execute_reply.started": "2024-01-30T11:01:35.101170Z"
    }
   },
   "outputs": [],
   "source": [
    "# then, determination of b's (biases from the output layer) contribution to the error,\n",
    "# this is just the average of absolute error \n",
    "# sum(dO) means sum the prediction errors from all images"
   ]
  },
  {
   "cell_type": "markdown",
   "id": "e2ad76bc-50aa-44f6-b4cd-7caff9968a8d",
   "metadata": {},
   "source": [
    "# $$\\underbrace{\\mathrm{d}{b}}_{10 \\times 1} =  \\frac{\\sum_{i~=~1}^{N}{\\overbrace{\\mathrm{d}{O_i}}^{10 \\times 1}}}{N}$$"
   ]
  },
  {
   "cell_type": "code",
   "execution_count": null,
   "id": "b943b345-f1dd-4776-9037-7e77b2004d7f",
   "metadata": {},
   "outputs": [],
   "source": []
  },
  {
   "cell_type": "code",
   "execution_count": 4,
   "id": "71818f13-3e84-4ba8-baae-e96ac0fb7a16",
   "metadata": {
    "execution": {
     "iopub.execute_input": "2024-01-30T11:22:14.445172Z",
     "iopub.status.busy": "2024-01-30T11:22:14.445172Z",
     "iopub.status.idle": "2024-01-30T11:22:14.457378Z",
     "shell.execute_reply": "2024-01-30T11:22:14.457378Z",
     "shell.execute_reply.started": "2024-01-30T11:22:14.445172Z"
    }
   },
   "outputs": [],
   "source": [
    "# now, we'll calculate how much the hidden layer was off by,\n",
    "# f'() is the derivative of the activation function used in forward propagation\n",
    "# this is done to undo the effect of the activation function"
   ]
  },
  {
   "cell_type": "markdown",
   "id": "6a2ac712-83fe-4dc8-9f40-9cc76603ef14",
   "metadata": {},
   "source": [
    "# $$\\mathrm{d}{H} = \\underbrace{w^T}_{10 \\times 10} \\cdot \\underbrace{\\mathrm{d}{O}}_{10 \\times N} \\times \\underbrace{f^{\\prime}(H)}_{10 \\times N}$$"
   ]
  },
  {
   "cell_type": "code",
   "execution_count": null,
   "id": "e0c19eea-72ff-4624-97d3-11a61bd44f1a",
   "metadata": {},
   "outputs": [],
   "source": [
    "# after the matrix multiplications, dH's dimension will be 10 x N"
   ]
  },
  {
   "cell_type": "code",
   "execution_count": null,
   "id": "42636ed6-e405-46ba-8e09-c7c7a7422d49",
   "metadata": {},
   "outputs": [],
   "source": []
  },
  {
   "cell_type": "code",
   "execution_count": 1,
   "id": "15066d92-7841-4371-a757-c8641f0f8c88",
   "metadata": {
    "execution": {
     "iopub.execute_input": "2024-01-31T11:27:54.098461Z",
     "iopub.status.busy": "2024-01-31T11:27:54.098461Z",
     "iopub.status.idle": "2024-01-31T11:27:54.112566Z",
     "shell.execute_reply": "2024-01-31T11:27:54.112566Z",
     "shell.execute_reply.started": "2024-01-31T11:27:54.098461Z"
    }
   },
   "outputs": [],
   "source": [
    "# next, we calculate how much the weights and biases of the hidden layer contributed to the error!\n",
    "# I is the input layer (784 x N)"
   ]
  },
  {
   "cell_type": "markdown",
   "id": "52f22736-34f0-4370-839b-3178051389e8",
   "metadata": {},
   "source": [
    "# $$\\mathrm{d}{W} = \\frac{\\overbrace{\\mathrm{d}{H}}^{10 \\times N} \\cdot \\overbrace{I^T}^{N \\times 784}}{N}$$"
   ]
  },
  {
   "cell_type": "code",
   "execution_count": null,
   "id": "33a714a3-1a7c-4bee-935c-004dcf5e2f4b",
   "metadata": {},
   "outputs": [],
   "source": []
  },
  {
   "cell_type": "markdown",
   "id": "08422c81-c3a2-4d29-b09f-7151ef990fd2",
   "metadata": {},
   "source": [
    "# $$\\underbrace{\\mathrm{d}{B}}_{10 \\times 1} = \\frac{\\sum_{i~=~1}^{N}{\\overbrace{\\mathrm{d}{H_i}}^{10 \\times 1}}}{N}$$"
   ]
  },
  {
   "cell_type": "code",
   "execution_count": null,
   "id": "ce0e204d-07cb-453a-ba22-4725f68f7dad",
   "metadata": {},
   "outputs": [],
   "source": [
    "# for biases, we compute the average of dH for all images\n",
    "# dimension of dH is 10 x N\n",
    "# DIMENSION OF dH_i IS 10 x 1"
   ]
  },
  {
   "cell_type": "code",
   "execution_count": null,
   "id": "5e5541af-8962-4345-8bc5-09b89003fc4e",
   "metadata": {},
   "outputs": [],
   "source": []
  },
  {
   "cell_type": "code",
   "execution_count": 3,
   "id": "b570cc9f-011b-4184-812b-ff2c4738b731",
   "metadata": {
    "execution": {
     "iopub.execute_input": "2024-01-31T11:47:40.156170Z",
     "iopub.status.busy": "2024-01-31T11:47:40.156170Z",
     "iopub.status.idle": "2024-01-31T11:47:40.161565Z",
     "shell.execute_reply": "2024-01-31T11:47:40.161565Z",
     "shell.execute_reply.started": "2024-01-31T11:47:40.156170Z"
    }
   },
   "outputs": [],
   "source": [
    "# after all these computations in back propagation, we update the weights and biases as below,"
   ]
  },
  {
   "cell_type": "markdown",
   "id": "45456455-aee0-4ad2-a95f-f083f0f29632",
   "metadata": {},
   "source": [
    "# $W = W - \\alpha \\cdot \\mathrm{d}{W}$\n",
    "# $B = B - \\alpha \\cdot \\mathrm{d}{B}$\n",
    "# $w = w - \\alpha \\cdot \\mathrm{d}{w}$\n",
    "# $b = b - \\alpha \\cdot \\mathrm{d}{b}$"
   ]
  },
  {
   "cell_type": "code",
   "execution_count": 4,
   "id": "c3756548-57b5-43b3-87cb-a1d838f870b9",
   "metadata": {
    "execution": {
     "iopub.execute_input": "2024-01-31T11:51:58.660153Z",
     "iopub.status.busy": "2024-01-31T11:51:58.660153Z",
     "iopub.status.idle": "2024-01-31T11:51:58.664592Z",
     "shell.execute_reply": "2024-01-31T11:51:58.664592Z",
     "shell.execute_reply.started": "2024-01-31T11:51:58.660153Z"
    }
   },
   "outputs": [],
   "source": [
    "# the alpha here is the learning rate\n",
    "# it's what's called a HYPER PARAMETER\n",
    "# IT ISN'T LEARNED BY THE MODEL, IT IS SPECIFIED BY THE PROGRAMMER"
   ]
  },
  {
   "cell_type": "code",
   "execution_count": null,
   "id": "181de43f-e081-424d-8f12-b6d9e75b870c",
   "metadata": {},
   "outputs": [],
   "source": [
    "# ONCE THE PARANMETERS HAVE BEEN UPDATED, WE RINSE AND REPEAT THE FORWARD AND BACK PROPAGATIONS"
   ]
  },
  {
   "cell_type": "code",
   "execution_count": null,
   "id": "f337acf0-e667-48b9-bd1c-dbdd44e875ad",
   "metadata": {},
   "outputs": [],
   "source": []
  },
  {
   "cell_type": "markdown",
   "id": "038f50f5-06b0-4510-89bd-472940af200d",
   "metadata": {},
   "source": [
    "# ***Implementation:***\n",
    "-----------------"
   ]
  },
  {
   "cell_type": "code",
   "execution_count": null,
   "id": "6b1c06d9-1e66-4a17-a1a2-58040ed96728",
   "metadata": {},
   "outputs": [],
   "source": []
  },
  {
   "cell_type": "code",
   "execution_count": 27,
   "id": "a02aa9ce-c7be-4d56-9d90-193fe239a048",
   "metadata": {
    "execution": {
     "iopub.execute_input": "2024-02-02T12:13:44.744664Z",
     "iopub.status.busy": "2024-02-02T12:13:44.744664Z",
     "iopub.status.idle": "2024-02-02T12:13:44.751225Z",
     "shell.execute_reply": "2024-02-02T12:13:44.751225Z",
     "shell.execute_reply.started": "2024-02-02T12:13:44.744664Z"
    }
   },
   "outputs": [],
   "source": [
    "import os\n",
    "from typing import Tuple, List, Iterator, Dict\n",
    "import numpy as np\n",
    "from numpy.typing import NDArray\n",
    "np.random.seed(2024 - 1 - 21)\n",
    "import pandas as pd\n",
    "from torch import nn\n",
    "import matplotlib.pyplot as plt\n",
    "from sklearn.preprocessing import OneHotEncoder"
   ]
  },
  {
   "cell_type": "code",
   "execution_count": null,
   "id": "b74fb130-1b1c-4a7e-9011-7f2bde24b072",
   "metadata": {},
   "outputs": [],
   "source": []
  },
  {
   "cell_type": "code",
   "execution_count": 57,
   "id": "18f74e5b-249d-49c7-b7a1-fc4cf6233c7e",
   "metadata": {
    "execution": {
     "iopub.execute_input": "2024-02-02T12:20:17.278597Z",
     "iopub.status.busy": "2024-02-02T12:20:17.278597Z",
     "iopub.status.idle": "2024-02-02T12:20:17.286128Z",
     "shell.execute_reply": "2024-02-02T12:20:17.286128Z",
     "shell.execute_reply.started": "2024-02-02T12:20:17.278597Z"
    }
   },
   "outputs": [
    {
     "data": {
      "text/plain": [
       "array([[0.1 , 0.1 , 0.2 , 0.6 ],\n",
       "       [0.05, 0.15, 0.7 , 0.1 ]])"
      ]
     },
     "execution_count": 57,
     "metadata": {},
     "output_type": "execute_result"
    }
   ],
   "source": [
    "x = np.array([[0.1, 0.1, 0.2, 0.6], [0.05, 0.15, 0.7, 0.1]])\n",
    "x"
   ]
  },
  {
   "cell_type": "code",
   "execution_count": 59,
   "id": "277641da-855d-46a9-8ad6-4015a7404c2d",
   "metadata": {
    "execution": {
     "iopub.execute_input": "2024-02-02T12:20:28.361851Z",
     "iopub.status.busy": "2024-02-02T12:20:28.361851Z",
     "iopub.status.idle": "2024-02-02T12:20:28.369318Z",
     "shell.execute_reply": "2024-02-02T12:20:28.369318Z",
     "shell.execute_reply.started": "2024-02-02T12:20:28.361851Z"
    }
   },
   "outputs": [
    {
     "data": {
      "text/plain": [
       "array([[1., 0., 0., 1., 0., 1., 1., 0.],\n",
       "       [0., 1., 1., 0., 1., 0., 0., 1.]])"
      ]
     },
     "execution_count": 59,
     "metadata": {},
     "output_type": "execute_result"
    }
   ],
   "source": [
    "OneHotEncoder(sparse_output = False, max_categories = 2).fit_transform(x)"
   ]
  },
  {
   "cell_type": "code",
   "execution_count": 54,
   "id": "c79b5729-0bb0-41a6-9066-f091a59a518d",
   "metadata": {
    "execution": {
     "iopub.execute_input": "2024-02-02T12:19:50.722867Z",
     "iopub.status.busy": "2024-02-02T12:19:50.722867Z",
     "iopub.status.idle": "2024-02-02T12:19:50.740618Z",
     "shell.execute_reply": "2024-02-02T12:19:50.740618Z",
     "shell.execute_reply.started": "2024-02-02T12:19:50.722867Z"
    }
   },
   "outputs": [
    {
     "data": {
      "text/html": [
       "<style>#sk-container-id-1 {\n",
       "  /* Definition of color scheme common for light and dark mode */\n",
       "  --sklearn-color-text: black;\n",
       "  --sklearn-color-line: gray;\n",
       "  /* Definition of color scheme for unfitted estimators */\n",
       "  --sklearn-color-unfitted-level-0: #fff5e6;\n",
       "  --sklearn-color-unfitted-level-1: #f6e4d2;\n",
       "  --sklearn-color-unfitted-level-2: #ffe0b3;\n",
       "  --sklearn-color-unfitted-level-3: chocolate;\n",
       "  /* Definition of color scheme for fitted estimators */\n",
       "  --sklearn-color-fitted-level-0: #f0f8ff;\n",
       "  --sklearn-color-fitted-level-1: #d4ebff;\n",
       "  --sklearn-color-fitted-level-2: #b3dbfd;\n",
       "  --sklearn-color-fitted-level-3: cornflowerblue;\n",
       "\n",
       "  /* Specific color for light theme */\n",
       "  --sklearn-color-text-on-default-background: var(--sg-text-color, var(--theme-code-foreground, var(--jp-content-font-color1, black)));\n",
       "  --sklearn-color-background: var(--sg-background-color, var(--theme-background, var(--jp-layout-color0, white)));\n",
       "  --sklearn-color-border-box: var(--sg-text-color, var(--theme-code-foreground, var(--jp-content-font-color1, black)));\n",
       "  --sklearn-color-icon: #696969;\n",
       "\n",
       "  @media (prefers-color-scheme: dark) {\n",
       "    /* Redefinition of color scheme for dark theme */\n",
       "    --sklearn-color-text-on-default-background: var(--sg-text-color, var(--theme-code-foreground, var(--jp-content-font-color1, white)));\n",
       "    --sklearn-color-background: var(--sg-background-color, var(--theme-background, var(--jp-layout-color0, #111)));\n",
       "    --sklearn-color-border-box: var(--sg-text-color, var(--theme-code-foreground, var(--jp-content-font-color1, white)));\n",
       "    --sklearn-color-icon: #878787;\n",
       "  }\n",
       "}\n",
       "\n",
       "#sk-container-id-1 {\n",
       "  color: var(--sklearn-color-text);\n",
       "}\n",
       "\n",
       "#sk-container-id-1 pre {\n",
       "  padding: 0;\n",
       "}\n",
       "\n",
       "#sk-container-id-1 input.sk-hidden--visually {\n",
       "  border: 0;\n",
       "  clip: rect(1px 1px 1px 1px);\n",
       "  clip: rect(1px, 1px, 1px, 1px);\n",
       "  height: 1px;\n",
       "  margin: -1px;\n",
       "  overflow: hidden;\n",
       "  padding: 0;\n",
       "  position: absolute;\n",
       "  width: 1px;\n",
       "}\n",
       "\n",
       "#sk-container-id-1 div.sk-dashed-wrapped {\n",
       "  border: 1px dashed var(--sklearn-color-line);\n",
       "  margin: 0 0.4em 0.5em 0.4em;\n",
       "  box-sizing: border-box;\n",
       "  padding-bottom: 0.4em;\n",
       "  background-color: var(--sklearn-color-background);\n",
       "}\n",
       "\n",
       "#sk-container-id-1 div.sk-container {\n",
       "  /* jupyter's `normalize.less` sets `[hidden] { display: none; }`\n",
       "     but bootstrap.min.css set `[hidden] { display: none !important; }`\n",
       "     so we also need the `!important` here to be able to override the\n",
       "     default hidden behavior on the sphinx rendered scikit-learn.org.\n",
       "     See: https://github.com/scikit-learn/scikit-learn/issues/21755 */\n",
       "  display: inline-block !important;\n",
       "  position: relative;\n",
       "}\n",
       "\n",
       "#sk-container-id-1 div.sk-text-repr-fallback {\n",
       "  display: none;\n",
       "}\n",
       "\n",
       "div.sk-parallel-item,\n",
       "div.sk-serial,\n",
       "div.sk-item {\n",
       "  /* draw centered vertical line to link estimators */\n",
       "  background-image: linear-gradient(var(--sklearn-color-text-on-default-background), var(--sklearn-color-text-on-default-background));\n",
       "  background-size: 2px 100%;\n",
       "  background-repeat: no-repeat;\n",
       "  background-position: center center;\n",
       "}\n",
       "\n",
       "/* Parallel-specific style estimator block */\n",
       "\n",
       "#sk-container-id-1 div.sk-parallel-item::after {\n",
       "  content: \"\";\n",
       "  width: 100%;\n",
       "  border-bottom: 2px solid var(--sklearn-color-text-on-default-background);\n",
       "  flex-grow: 1;\n",
       "}\n",
       "\n",
       "#sk-container-id-1 div.sk-parallel {\n",
       "  display: flex;\n",
       "  align-items: stretch;\n",
       "  justify-content: center;\n",
       "  background-color: var(--sklearn-color-background);\n",
       "  position: relative;\n",
       "}\n",
       "\n",
       "#sk-container-id-1 div.sk-parallel-item {\n",
       "  display: flex;\n",
       "  flex-direction: column;\n",
       "}\n",
       "\n",
       "#sk-container-id-1 div.sk-parallel-item:first-child::after {\n",
       "  align-self: flex-end;\n",
       "  width: 50%;\n",
       "}\n",
       "\n",
       "#sk-container-id-1 div.sk-parallel-item:last-child::after {\n",
       "  align-self: flex-start;\n",
       "  width: 50%;\n",
       "}\n",
       "\n",
       "#sk-container-id-1 div.sk-parallel-item:only-child::after {\n",
       "  width: 0;\n",
       "}\n",
       "\n",
       "/* Serial-specific style estimator block */\n",
       "\n",
       "#sk-container-id-1 div.sk-serial {\n",
       "  display: flex;\n",
       "  flex-direction: column;\n",
       "  align-items: center;\n",
       "  background-color: var(--sklearn-color-background);\n",
       "  padding-right: 1em;\n",
       "  padding-left: 1em;\n",
       "}\n",
       "\n",
       "\n",
       "/* Toggleable style: style used for estimator/Pipeline/ColumnTransformer box that is\n",
       "clickable and can be expanded/collapsed.\n",
       "- Pipeline and ColumnTransformer use this feature and define the default style\n",
       "- Estimators will overwrite some part of the style using the `sk-estimator` class\n",
       "*/\n",
       "\n",
       "/* Pipeline and ColumnTransformer style (default) */\n",
       "\n",
       "#sk-container-id-1 div.sk-toggleable {\n",
       "  /* Default theme specific background. It is overwritten whether we have a\n",
       "  specific estimator or a Pipeline/ColumnTransformer */\n",
       "  background-color: var(--sklearn-color-background);\n",
       "}\n",
       "\n",
       "/* Toggleable label */\n",
       "#sk-container-id-1 label.sk-toggleable__label {\n",
       "  cursor: pointer;\n",
       "  display: block;\n",
       "  width: 100%;\n",
       "  margin-bottom: 0;\n",
       "  padding: 0.5em;\n",
       "  box-sizing: border-box;\n",
       "  text-align: center;\n",
       "}\n",
       "\n",
       "#sk-container-id-1 label.sk-toggleable__label-arrow:before {\n",
       "  /* Arrow on the left of the label */\n",
       "  content: \"▸\";\n",
       "  float: left;\n",
       "  margin-right: 0.25em;\n",
       "  color: var(--sklearn-color-icon);\n",
       "}\n",
       "\n",
       "#sk-container-id-1 label.sk-toggleable__label-arrow:hover:before {\n",
       "  color: var(--sklearn-color-text);\n",
       "}\n",
       "\n",
       "/* Toggleable content - dropdown */\n",
       "\n",
       "#sk-container-id-1 div.sk-toggleable__content {\n",
       "  max-height: 0;\n",
       "  max-width: 0;\n",
       "  overflow: hidden;\n",
       "  text-align: left;\n",
       "  /* unfitted */\n",
       "  background-color: var(--sklearn-color-unfitted-level-0);\n",
       "}\n",
       "\n",
       "#sk-container-id-1 div.sk-toggleable__content.fitted {\n",
       "  /* fitted */\n",
       "  background-color: var(--sklearn-color-fitted-level-0);\n",
       "}\n",
       "\n",
       "#sk-container-id-1 div.sk-toggleable__content pre {\n",
       "  margin: 0.2em;\n",
       "  border-radius: 0.25em;\n",
       "  color: var(--sklearn-color-text);\n",
       "  /* unfitted */\n",
       "  background-color: var(--sklearn-color-unfitted-level-0);\n",
       "}\n",
       "\n",
       "#sk-container-id-1 div.sk-toggleable__content.fitted pre {\n",
       "  /* unfitted */\n",
       "  background-color: var(--sklearn-color-fitted-level-0);\n",
       "}\n",
       "\n",
       "#sk-container-id-1 input.sk-toggleable__control:checked~div.sk-toggleable__content {\n",
       "  /* Expand drop-down */\n",
       "  max-height: 200px;\n",
       "  max-width: 100%;\n",
       "  overflow: auto;\n",
       "}\n",
       "\n",
       "#sk-container-id-1 input.sk-toggleable__control:checked~label.sk-toggleable__label-arrow:before {\n",
       "  content: \"▾\";\n",
       "}\n",
       "\n",
       "/* Pipeline/ColumnTransformer-specific style */\n",
       "\n",
       "#sk-container-id-1 div.sk-label input.sk-toggleable__control:checked~label.sk-toggleable__label {\n",
       "  color: var(--sklearn-color-text);\n",
       "  background-color: var(--sklearn-color-unfitted-level-2);\n",
       "}\n",
       "\n",
       "#sk-container-id-1 div.sk-label.fitted input.sk-toggleable__control:checked~label.sk-toggleable__label {\n",
       "  background-color: var(--sklearn-color-fitted-level-2);\n",
       "}\n",
       "\n",
       "/* Estimator-specific style */\n",
       "\n",
       "/* Colorize estimator box */\n",
       "#sk-container-id-1 div.sk-estimator input.sk-toggleable__control:checked~label.sk-toggleable__label {\n",
       "  /* unfitted */\n",
       "  background-color: var(--sklearn-color-unfitted-level-2);\n",
       "}\n",
       "\n",
       "#sk-container-id-1 div.sk-estimator.fitted input.sk-toggleable__control:checked~label.sk-toggleable__label {\n",
       "  /* fitted */\n",
       "  background-color: var(--sklearn-color-fitted-level-2);\n",
       "}\n",
       "\n",
       "#sk-container-id-1 div.sk-label label.sk-toggleable__label,\n",
       "#sk-container-id-1 div.sk-label label {\n",
       "  /* The background is the default theme color */\n",
       "  color: var(--sklearn-color-text-on-default-background);\n",
       "}\n",
       "\n",
       "/* On hover, darken the color of the background */\n",
       "#sk-container-id-1 div.sk-label:hover label.sk-toggleable__label {\n",
       "  color: var(--sklearn-color-text);\n",
       "  background-color: var(--sklearn-color-unfitted-level-2);\n",
       "}\n",
       "\n",
       "/* Label box, darken color on hover, fitted */\n",
       "#sk-container-id-1 div.sk-label.fitted:hover label.sk-toggleable__label.fitted {\n",
       "  color: var(--sklearn-color-text);\n",
       "  background-color: var(--sklearn-color-fitted-level-2);\n",
       "}\n",
       "\n",
       "/* Estimator label */\n",
       "\n",
       "#sk-container-id-1 div.sk-label label {\n",
       "  font-family: monospace;\n",
       "  font-weight: bold;\n",
       "  display: inline-block;\n",
       "  line-height: 1.2em;\n",
       "}\n",
       "\n",
       "#sk-container-id-1 div.sk-label-container {\n",
       "  text-align: center;\n",
       "}\n",
       "\n",
       "/* Estimator-specific */\n",
       "#sk-container-id-1 div.sk-estimator {\n",
       "  font-family: monospace;\n",
       "  border: 1px dotted var(--sklearn-color-border-box);\n",
       "  border-radius: 0.25em;\n",
       "  box-sizing: border-box;\n",
       "  margin-bottom: 0.5em;\n",
       "  /* unfitted */\n",
       "  background-color: var(--sklearn-color-unfitted-level-0);\n",
       "}\n",
       "\n",
       "#sk-container-id-1 div.sk-estimator.fitted {\n",
       "  /* fitted */\n",
       "  background-color: var(--sklearn-color-fitted-level-0);\n",
       "}\n",
       "\n",
       "/* on hover */\n",
       "#sk-container-id-1 div.sk-estimator:hover {\n",
       "  /* unfitted */\n",
       "  background-color: var(--sklearn-color-unfitted-level-2);\n",
       "}\n",
       "\n",
       "#sk-container-id-1 div.sk-estimator.fitted:hover {\n",
       "  /* fitted */\n",
       "  background-color: var(--sklearn-color-fitted-level-2);\n",
       "}\n",
       "\n",
       "/* Specification for estimator info (e.g. \"i\" and \"?\") */\n",
       "\n",
       "/* Common style for \"i\" and \"?\" */\n",
       "\n",
       ".sk-estimator-doc-link,\n",
       "a:link.sk-estimator-doc-link,\n",
       "a:visited.sk-estimator-doc-link {\n",
       "  float: right;\n",
       "  font-size: smaller;\n",
       "  line-height: 1em;\n",
       "  font-family: monospace;\n",
       "  background-color: var(--sklearn-color-background);\n",
       "  border-radius: 1em;\n",
       "  height: 1em;\n",
       "  width: 1em;\n",
       "  text-decoration: none !important;\n",
       "  margin-left: 1ex;\n",
       "  /* unfitted */\n",
       "  border: var(--sklearn-color-unfitted-level-1) 1pt solid;\n",
       "  color: var(--sklearn-color-unfitted-level-1);\n",
       "}\n",
       "\n",
       ".sk-estimator-doc-link.fitted,\n",
       "a:link.sk-estimator-doc-link.fitted,\n",
       "a:visited.sk-estimator-doc-link.fitted {\n",
       "  /* fitted */\n",
       "  border: var(--sklearn-color-fitted-level-1) 1pt solid;\n",
       "  color: var(--sklearn-color-fitted-level-1);\n",
       "}\n",
       "\n",
       "/* On hover */\n",
       "div.sk-estimator:hover .sk-estimator-doc-link:hover,\n",
       ".sk-estimator-doc-link:hover,\n",
       "div.sk-label-container:hover .sk-estimator-doc-link:hover,\n",
       ".sk-estimator-doc-link:hover {\n",
       "  /* unfitted */\n",
       "  background-color: var(--sklearn-color-unfitted-level-3);\n",
       "  color: var(--sklearn-color-background);\n",
       "  text-decoration: none;\n",
       "}\n",
       "\n",
       "div.sk-estimator.fitted:hover .sk-estimator-doc-link.fitted:hover,\n",
       ".sk-estimator-doc-link.fitted:hover,\n",
       "div.sk-label-container:hover .sk-estimator-doc-link.fitted:hover,\n",
       ".sk-estimator-doc-link.fitted:hover {\n",
       "  /* fitted */\n",
       "  background-color: var(--sklearn-color-fitted-level-3);\n",
       "  color: var(--sklearn-color-background);\n",
       "  text-decoration: none;\n",
       "}\n",
       "\n",
       "/* Span, style for the box shown on hovering the info icon */\n",
       ".sk-estimator-doc-link span {\n",
       "  display: none;\n",
       "  z-index: 9999;\n",
       "  position: relative;\n",
       "  font-weight: normal;\n",
       "  right: .2ex;\n",
       "  padding: .5ex;\n",
       "  margin: .5ex;\n",
       "  width: min-content;\n",
       "  min-width: 20ex;\n",
       "  max-width: 50ex;\n",
       "  color: var(--sklearn-color-text);\n",
       "  box-shadow: 2pt 2pt 4pt #999;\n",
       "  /* unfitted */\n",
       "  background: var(--sklearn-color-unfitted-level-0);\n",
       "  border: .5pt solid var(--sklearn-color-unfitted-level-3);\n",
       "}\n",
       "\n",
       ".sk-estimator-doc-link.fitted span {\n",
       "  /* fitted */\n",
       "  background: var(--sklearn-color-fitted-level-0);\n",
       "  border: var(--sklearn-color-fitted-level-3);\n",
       "}\n",
       "\n",
       ".sk-estimator-doc-link:hover span {\n",
       "  display: block;\n",
       "}\n",
       "\n",
       "/* \"?\"-specific style due to the `<a>` HTML tag */\n",
       "\n",
       "#sk-container-id-1 a.estimator_doc_link {\n",
       "  float: right;\n",
       "  font-size: 1rem;\n",
       "  line-height: 1em;\n",
       "  font-family: monospace;\n",
       "  background-color: var(--sklearn-color-background);\n",
       "  border-radius: 1rem;\n",
       "  height: 1rem;\n",
       "  width: 1rem;\n",
       "  text-decoration: none;\n",
       "  /* unfitted */\n",
       "  color: var(--sklearn-color-unfitted-level-1);\n",
       "  border: var(--sklearn-color-unfitted-level-1) 1pt solid;\n",
       "}\n",
       "\n",
       "#sk-container-id-1 a.estimator_doc_link.fitted {\n",
       "  /* fitted */\n",
       "  border: var(--sklearn-color-fitted-level-1) 1pt solid;\n",
       "  color: var(--sklearn-color-fitted-level-1);\n",
       "}\n",
       "\n",
       "/* On hover */\n",
       "#sk-container-id-1 a.estimator_doc_link:hover {\n",
       "  /* unfitted */\n",
       "  background-color: var(--sklearn-color-unfitted-level-3);\n",
       "  color: var(--sklearn-color-background);\n",
       "  text-decoration: none;\n",
       "}\n",
       "\n",
       "#sk-container-id-1 a.estimator_doc_link.fitted:hover {\n",
       "  /* fitted */\n",
       "  background-color: var(--sklearn-color-fitted-level-3);\n",
       "}\n",
       "</style><div id=\"sk-container-id-1\" class=\"sk-top-container\"><div class=\"sk-text-repr-fallback\"><pre>OneHotEncoder(max_categories=4, sparse_output=False)</pre><b>In a Jupyter environment, please rerun this cell to show the HTML representation or trust the notebook. <br />On GitHub, the HTML representation is unable to render, please try loading this page with nbviewer.org.</b></div><div class=\"sk-container\" hidden><div class=\"sk-item\"><div class=\"sk-estimator  sk-toggleable\"><input class=\"sk-toggleable__control sk-hidden--visually\" id=\"sk-estimator-id-1\" type=\"checkbox\" checked><label for=\"sk-estimator-id-1\" class=\"sk-toggleable__label  sk-toggleable__label-arrow \">&nbsp;&nbsp;OneHotEncoder<a class=\"sk-estimator-doc-link \" rel=\"noreferrer\" target=\"_blank\" href=\"https://scikit-learn.org/1.4/modules/generated/sklearn.preprocessing.OneHotEncoder.html\">?<span>Documentation for OneHotEncoder</span></a><span class=\"sk-estimator-doc-link \">i<span>Not fitted</span></span></label><div class=\"sk-toggleable__content \"><pre>OneHotEncoder(max_categories=4, sparse_output=False)</pre></div> </div></div></div></div>"
      ],
      "text/plain": [
       "OneHotEncoder(max_categories=4, sparse_output=False)"
      ]
     },
     "execution_count": 54,
     "metadata": {},
     "output_type": "execute_result"
    }
   ],
   "source": []
  },
  {
   "cell_type": "code",
   "execution_count": null,
   "id": "55620349-af6f-4350-aa5c-aaeeba23f6d8",
   "metadata": {},
   "outputs": [],
   "source": []
  },
  {
   "cell_type": "code",
   "execution_count": 6,
   "id": "d93d98b1-f5cd-4b7b-9354-0a9f63ec6c47",
   "metadata": {
    "execution": {
     "iopub.execute_input": "2024-02-02T11:23:42.929852Z",
     "iopub.status.busy": "2024-02-02T11:23:42.929852Z",
     "iopub.status.idle": "2024-02-02T11:23:42.939193Z",
     "shell.execute_reply": "2024-02-02T11:23:42.939193Z",
     "shell.execute_reply.started": "2024-02-02T11:23:42.929852Z"
    }
   },
   "outputs": [],
   "source": [
    "class Idx1:\n",
    "\n",
    "    \"\"\"\n",
    "    A minimal class to handle IO operations using idx1 files \n",
    "\n",
    "    IDX1 file format:\n",
    "    [offset] [type]          [value]          [description]\n",
    "    0000     32 bit integer  0x00000801(2049) magic number (MSB first)\n",
    "    0004     32 bit integer  10000            number of items\n",
    "    0008     unsigned byte   ??               label\n",
    "    0009     unsigned byte   ??               label\n",
    "    ........\n",
    "    xxxx     unsigned byte   ??               label\n",
    "    \"\"\"\n",
    "    \n",
    "    def __init__(self, filepath: str) -> None:\n",
    "        \"\"\"\n",
    "        filepath: str is a string pointing to the unzipped idx1 resource\n",
    "        uses numpy under the hood\n",
    "        \"\"\"\n",
    "        if not isinstance(filepath, str):\n",
    "            raise TypeError(f\"filepath:: expected <class 'str'>, got {type(filepath)}\")\n",
    "\n",
    "        with open(file = filepath, mode = \"rb\") as fp: # let open() handle IO errors.\n",
    "            self.__data: NDArray[np.uint8] = np.fromfile(fp, dtype = np.uint8) # private\n",
    "            \n",
    "        self.type: str = \"idx1\"\n",
    "        self.__magic: int = int.from_bytes(self.__data[:4], byteorder = \"big\")  # idx magic number\n",
    "        self.count: int = int.from_bytes(self.__data[4:8], byteorder = \"big\")  # count of the data elements (images or labels)\n",
    "        # shape is shape of each element NOT the shape of the overall idx data\n",
    "        self.shape: Tuple[int, int] = (1, )\n",
    "        \n",
    "        assert self.count == self.__data.size - 8, \"There seems to be a parsing error or the binary file is corrupted!\"\n",
    "        # the actual data\n",
    "        self.data: NDArray[np.uint8] = self.__data[8:]\n",
    "\n",
    "    def __repr__(self) -> str:\n",
    "        return f\"idx1 object(magic: {self.__magic}, shape: {self.shape}, count: {self.count:,})\"\n",
    "\n",
    "    def __iter__(self) -> Iterator[np.uint8]:\n",
    "        yield from self.data\n",
    "\n",
    "    def __getitem__(self, index: int) -> np.uint8:   # let numpy handle index out of bound errors\n",
    "        \"\"\"\n",
    "        returns the index th element in the data array\n",
    "        \"\"\"\n",
    "        return self.data[index]\n"
   ]
  },
  {
   "cell_type": "code",
   "execution_count": 7,
   "id": "0e2c857a-fe20-4376-a884-32b17492c4ab",
   "metadata": {
    "execution": {
     "iopub.execute_input": "2024-02-02T11:23:44.331815Z",
     "iopub.status.busy": "2024-02-02T11:23:44.331815Z",
     "iopub.status.idle": "2024-02-02T11:23:44.346561Z",
     "shell.execute_reply": "2024-02-02T11:23:44.346561Z",
     "shell.execute_reply.started": "2024-02-02T11:23:44.331815Z"
    }
   },
   "outputs": [],
   "source": [
    "class Idx3:\n",
    "\n",
    "    \"\"\"\n",
    "    A minimal class to handle IO operations using idx3 files\n",
    "\n",
    "    IDX3 file format:\n",
    "    [offset] [type]          [value]          [description]\n",
    "    0000     32 bit integer  0x00000803(2051) magic number\n",
    "    0004     32 bit integer  10000            number of images\n",
    "    0008     32 bit integer  28               number of rows\n",
    "    0012     32 bit integer  28               number of columns\n",
    "    0016     unsigned byte   ??               pixel\n",
    "    0017     unsigned byte   ??               pixel\n",
    "    ........\n",
    "    xxxx     unsigned byte   ??               pixel\n",
    "    \"\"\"\n",
    "    \n",
    "    def __init__(self, filepath: str) -> None:\n",
    "        \"\"\"\n",
    "        filepath: str is a string pointing to the unzipped idx resource\n",
    "        uses numpy under the hood\n",
    "        \"\"\"\n",
    "        if not isinstance(filepath, str):\n",
    "            raise TypeError(f\"filepath:: expected <class 'str'>, got {type(filepath)}\")\n",
    "\n",
    "        with open(file = filepath, mode = \"rb\") as fp:\n",
    "            self.__data: NDArray[np.uint8] = np.fromfile(fp, dtype = np.uint8) # private\n",
    "            \n",
    "        self.__type: str = \"idx3\"\n",
    "        self.__magic: int = int.from_bytes(self.__data[:4], byteorder = \"big\")  # idx magic number\n",
    "        self.count: int = int.from_bytes(self.__data[4:8], byteorder = \"big\")  # count of the data elements (images or labels)\n",
    "        # shape is shape of each element NOT the shape of the overall data\n",
    "        self.shape: Tuple[int, int] = (int.from_bytes(self.__data[8:12], byteorder = \"big\"), int.from_bytes(self.__data[12:16], byteorder = \"big\"))\n",
    "        self.__ppimage: int = self.shape[0] * self.shape[1]\n",
    "        assert (self.count * self.__ppimage) == (self.__data.size - 16), \"There seems to be a parsing error or the binary file is corrupted!\"\n",
    "        # the actual data\n",
    "        self.data: NDArray[np.uint8] = self.__data[16:].reshape(self.count, self.__ppimage).T\n",
    "\n",
    "    def __repr__(self) -> str:\n",
    "        return f\"idx3 object(magic: {self.__magic}, shape: {self.shape}, count: {self.count:,})\"\n",
    "\n",
    "    def __iter__(self) -> Iterator[np.uint8]:\n",
    "        yield from self.data\n",
    "\n",
    "    def __getitem__(self, index: int) -> NDArray[np.uint8]:\n",
    "        \"\"\"\n",
    "        this routine returns all the pixels of index th image, i.e returns the index th column of the transposed matrix\n",
    "        \"\"\"\n",
    "        return self.data[:, index]"
   ]
  },
  {
   "cell_type": "code",
   "execution_count": null,
   "id": "6325913d-45b6-4131-9945-a3acf5c68df3",
   "metadata": {},
   "outputs": [],
   "source": []
  },
  {
   "cell_type": "code",
   "execution_count": 9,
   "id": "50269874-5f96-48c3-afcd-ac8fddf746fc",
   "metadata": {
    "execution": {
     "iopub.execute_input": "2024-02-02T11:24:07.656577Z",
     "iopub.status.busy": "2024-02-02T11:24:07.656577Z",
     "iopub.status.idle": "2024-02-02T11:24:07.673639Z",
     "shell.execute_reply": "2024-02-02T11:24:07.673639Z",
     "shell.execute_reply.started": "2024-02-02T11:24:07.656577Z"
    }
   },
   "outputs": [],
   "source": [
    "# that's how our data looks\n",
    "\n",
    "def peek_idx(idx3: str, idx1: str, idx3elem_dim: Tuple[int, int] = (28, 28), colormap: str = \"binary\") -> None:\n",
    "    \"\"\"\n",
    "    samples 15 randomly choosen pairs if images and labels from the provided idx resources and plots them.\n",
    "    uses numpy, matplotlib under the hood.\n",
    "    idx3: str                                       the path to the idx3 resource\n",
    "    idx1: str                                       path to corresponding idx1 resource \n",
    "    idx3elem_dim: typing.Tuple[int, int] = (28, 28)      shape of the image matrices in the idx3 file\n",
    "    colormap: str = \"binary\"                             matplotlib cmap specification to use, when plotting the images\n",
    "    \"\"\"\n",
    "\n",
    "    images = Idx3(idx3)\n",
    "    labels = Idx1(idx1)\n",
    "    assert images.count == labels.count, f\"Mismatch in the number of elements stored in idx1 and idx3 files:: idx1: {labels.count}, idx3: {images.count}\"\n",
    "\n",
    "    nrows, ncols = idx3elem_dim\n",
    "    fig, axes = plt.subplots(nrows = 1, ncols = 15)\n",
    "    fig.set_size_inches(20, 4)\n",
    "    random_indices: NDArray[np.int64] = np.random.choice(np.arange(0, images.count), size = 15, replace = False)\n",
    "    for ax, idx in zip(axes, random_indices):\n",
    "        ax.imshow(images[idx].reshape(nrows, ncols), cmap = colormap)\n",
    "        ax.set_title(labels[idx])\n",
    "        ax.set_xticks([])  # remove the x axis ticks and labels\n",
    "        ax.set_yticks([])  # remove the y axis ticks and labels\n",
    "    plt.show()\n",
    "    return"
   ]
  },
  {
   "cell_type": "code",
   "execution_count": null,
   "id": "243c1f7f-cce6-45bd-8b1a-acc53d83bd97",
   "metadata": {},
   "outputs": [],
   "source": []
  },
  {
   "cell_type": "code",
   "execution_count": 10,
   "id": "0e5d0502-c8bd-4760-a52f-6476c823cb86",
   "metadata": {
    "execution": {
     "iopub.execute_input": "2024-02-02T11:24:08.340282Z",
     "iopub.status.busy": "2024-02-02T11:24:08.340282Z",
     "iopub.status.idle": "2024-02-02T11:24:08.827348Z",
     "shell.execute_reply": "2024-02-02T11:24:08.827348Z",
     "shell.execute_reply.started": "2024-02-02T11:24:08.340282Z"
    }
   },
   "outputs": [
    {
     "data": {
      "image/png": "[encoded data removed]",
      "text/plain": [
       "<Figure size 2000x400 with 15 Axes>"
      ]
     },
     "metadata": {},
     "output_type": "display_data"
    }
   ],
   "source": [
    "peek_idx(idx3 = r\"./MNIST/train-images.idx3-ubyte\", idx1 = r\"./MNIST/train-labels.idx1-ubyte\")"
   ]
  },
  {
   "cell_type": "code",
   "execution_count": 11,
   "id": "e6385f98-ca38-4379-a5cb-aed11a86f50b",
   "metadata": {
    "execution": {
     "iopub.execute_input": "2024-02-02T11:24:10.067961Z",
     "iopub.status.busy": "2024-02-02T11:24:10.067961Z",
     "iopub.status.idle": "2024-02-02T11:24:10.430505Z",
     "shell.execute_reply": "2024-02-02T11:24:10.430505Z",
     "shell.execute_reply.started": "2024-02-02T11:24:10.067961Z"
    }
   },
   "outputs": [
    {
     "data": {
      "image/png": "[encoded data removed]",
      "text/plain": [
       "<Figure size 2000x400 with 15 Axes>"
      ]
     },
     "metadata": {},
     "output_type": "display_data"
    }
   ],
   "source": [
    "peek_idx(idx3 = r\"./Fashion-MNIST/train-images-idx3-ubyte\", idx1 = r\"./Fashion-MNIST/train-labels-idx1-ubyte\", colormap = \"magma\")"
   ]
  },
  {
   "cell_type": "code",
   "execution_count": null,
   "id": "3ed49f5e-aee5-4e9e-adba-5cfb677b31fb",
   "metadata": {},
   "outputs": [],
   "source": []
  },
  {
   "cell_type": "code",
   "execution_count": 21,
   "id": "19f5ad7e-49fa-4017-a539-7c056e32fccc",
   "metadata": {
    "execution": {
     "iopub.execute_input": "2024-02-02T11:41:42.308354Z",
     "iopub.status.busy": "2024-02-02T11:41:42.308354Z",
     "iopub.status.idle": "2024-02-02T11:41:42.323302Z",
     "shell.execute_reply": "2024-02-02T11:41:42.323302Z",
     "shell.execute_reply.started": "2024-02-02T11:41:42.308354Z"
    }
   },
   "outputs": [],
   "source": [
    "def ReLU(data: NDArray[np.float64]) -> NDArray[np.float64]:\n",
    "    \"\"\"\n",
    "    np.maximum returns the elementwise maxima of two arrays.\n",
    "    If one input is a scalar, then the scalar gets broadcasted to the shape of the array, followed by the determination of elementwise maxima.\n",
    "    Rectified Linear Unit: x if x > 0 else 0\n",
    "    \"\"\"\n",
    "    return np.maximum(data, 0.000)  "
   ]
  },
  {
   "cell_type": "code",
   "execution_count": null,
   "id": "0eb41355-5043-42b2-ae2d-ea585484bb93",
   "metadata": {},
   "outputs": [],
   "source": []
  },
  {
   "cell_type": "code",
   "execution_count": 24,
   "id": "81b48e92-ec6b-43f1-a239-c2f3b1489a84",
   "metadata": {
    "execution": {
     "iopub.execute_input": "2024-02-02T12:03:14.179830Z",
     "iopub.status.busy": "2024-02-02T12:03:14.179830Z",
     "iopub.status.idle": "2024-02-02T12:03:14.190956Z",
     "shell.execute_reply": "2024-02-02T12:03:14.190901Z",
     "shell.execute_reply.started": "2024-02-02T12:03:14.179830Z"
    }
   },
   "outputs": [],
   "source": [
    "def softmax(data: NDArray[np.float64]) -> NDArray[np.float64]:\n",
    "    \"\"\"\n",
    "    \n",
    "    \"\"\"\n",
    "    sum = np.exp(data) \n",
    "    return sum / sum.sum()"
   ]
  },
  {
   "cell_type": "code",
   "execution_count": null,
   "id": "8dec4e93-0612-4dc7-8507-6e5ee594d81b",
   "metadata": {},
   "outputs": [],
   "source": []
  },
  {
   "cell_type": "code",
   "execution_count": 26,
   "id": "45ef3a22-6857-46aa-9d48-b930dc34ec2b",
   "metadata": {
    "execution": {
     "iopub.execute_input": "2024-02-02T12:06:12.453717Z",
     "iopub.status.busy": "2024-02-02T12:06:12.453717Z",
     "iopub.status.idle": "2024-02-02T12:06:12.465616Z",
     "shell.execute_reply": "2024-02-02T12:06:12.465616Z",
     "shell.execute_reply.started": "2024-02-02T12:06:12.453717Z"
    }
   },
   "outputs": [],
   "source": [
    "class NNetworkMinimal:\n",
    "\n",
    "    \"\"\"\n",
    "    A class representing a minimal neural network with one input layer, one hidden layer and an output layer\n",
    "    \"\"\"\n",
    "    \n",
    "    def __init__(self, nodes_in: np.uint64, nodes_hid: np.uint64, nodes_out: np.uint64, alpha: float = 0.001) -> None:\n",
    "        \"\"\"\n",
    "        \n",
    "        \"\"\"\n",
    "        \n",
    "        # privates\n",
    "        # initializing all the weights to be 0.5 (just an arbitrary choice)\n",
    "        self.__wh: NDArray[np.float64] = np.full(shape = (nodes_hid, nodes_in), fill_value = 0.5, dtype = np.float64)    # 10 x 784 matrix\n",
    "        self.__bh: NDArray[np.float64] = np.full(shape = (nodes_hid, 1), fill_value = 0.5, dtype = np.float64)           # 10 x 1 column vector\n",
    "        self.__wo: NDArray[np.float64] = np.full(shape = (nodes_hid, nodes_out), fill_value = 0.5, dtype = np.float64)   # 10 x 10 matrix\n",
    "        self.__bo: NDArray[np.float64] = np.full(shape = (nodes_out, 1), fill_value = 0.5, dtype = np.float64)           # 10 x 1 column vector\n",
    "\n",
    "    def __repr__(self) -> str:\n",
    "        pass\n",
    "\n",
    "    def train(self, data: NDArray[np.uint8], labels: NDArray[np.uint8]) -> None:\n",
    "        \"\"\"\n",
    "        \n",
    "        \"\"\"\n",
    "        # foward propagation\n",
    "        # computing H (weights of connections between input and hidden layer)\n",
    "        self.__H = self.__wh.dot(data) + self.__bh    # implicit type promotion from uint8 to float64\n",
    "        # computing H hat (weights of connections between input and hidden layer, post-activation)\n",
    "        self.__H_hat = ReLU(self.__H)\n",
    "        # then, we compute weights of the connections betweeen H and O.\n",
    "        self.__O = self.__wo.dot(self.__H_hat) + self.__bo\n",
    "        # computing O hat values.\n",
    "        self.__O_hat = softmax(self.__O)\n",
    "\n",
    "        # back propagation\n",
    "    \n",
    "    def predict(self, data: NDArray[np.uint8]) -> NDArray[np.int64]:\n",
    "        \"\"\"\n",
    "        \n",
    "        \"\"\"\n",
    "        pass"
   ]
  },
  {
   "cell_type": "code",
   "execution_count": 63,
   "id": "0916dd58-dc07-401e-a4eb-826b4bbd1757",
   "metadata": {
    "execution": {
     "iopub.execute_input": "2024-02-01T02:08:06.391982Z",
     "iopub.status.busy": "2024-02-01T02:08:06.391982Z",
     "iopub.status.idle": "2024-02-01T02:08:06.403280Z",
     "shell.execute_reply": "2024-02-01T02:08:06.402684Z",
     "shell.execute_reply.started": "2024-02-01T02:08:06.391982Z"
    }
   },
   "outputs": [
    {
     "name": "stdout",
     "output_type": "stream",
     "text": [
      "The slowest run took 22.17 times longer than the fastest. This could mean that an intermediate result is being cached.\n",
      "25.3 µs ± 31 µs per loop (mean ± std. dev. of 10 runs, 1 loop each)\n"
     ]
    }
   ],
   "source": [
    "%%timeit -n 1 -r 10\n",
    "\n",
    "nn = NNetworkMinimal(784, 10, 10)"
   ]
  },
  {
   "cell_type": "code",
   "execution_count": 81,
   "id": "d0bb29dd-0868-49f5-ba29-794684ac3465",
   "metadata": {
    "execution": {
     "iopub.execute_input": "2024-01-22T14:08:22.078486Z",
     "iopub.status.busy": "2024-01-22T14:08:22.078486Z",
     "iopub.status.idle": "2024-01-22T14:08:22.086715Z",
     "shell.execute_reply": "2024-01-22T14:08:22.086715Z",
     "shell.execute_reply.started": "2024-01-22T14:08:22.078486Z"
    }
   },
   "outputs": [
    {
     "data": {
      "text/plain": [
       "0"
      ]
     },
     "execution_count": 81,
     "metadata": {},
     "output_type": "execute_result"
    }
   ],
   "source": []
  },
  {
   "cell_type": "code",
   "execution_count": null,
   "id": "2341d9cc-3e75-4c15-a12a-d2ef8bcb2759",
   "metadata": {},
   "outputs": [],
   "source": []
  },
  {
   "cell_type": "code",
   "execution_count": null,
   "id": "657cb8f9-785d-4827-8211-e6edf3975d4c",
   "metadata": {},
   "outputs": [],
   "source": []
  },
  {
   "cell_type": "code",
   "execution_count": null,
   "id": "77883cb3-2a5b-436b-9b1a-cf340019734e",
   "metadata": {},
   "outputs": [],
   "source": []
  },
  {
   "cell_type": "code",
   "execution_count": null,
   "id": "ab952e13-c021-4600-a137-8f1ea2fb93b5",
   "metadata": {},
   "outputs": [],
   "source": []
  },
  {
   "cell_type": "code",
   "execution_count": null,
   "id": "b4badf54-15a8-4180-b118-b19b3cc93e41",
   "metadata": {},
   "outputs": [],
   "source": []
  },
  {
   "cell_type": "code",
   "execution_count": null,
   "id": "b5759dab-4764-406e-a1fe-23f9f8ad0fcc",
   "metadata": {},
   "outputs": [],
   "source": []
  },
  {
   "cell_type": "code",
   "execution_count": null,
   "id": "5ac306ed-d71c-4954-9a14-fb9295da34eb",
   "metadata": {},
   "outputs": [],
   "source": []
  },
  {
   "cell_type": "code",
   "execution_count": null,
   "id": "2cee01aa-8bf6-45c0-8b8d-f462d788a09b",
   "metadata": {},
   "outputs": [],
   "source": []
  },
  {
   "cell_type": "code",
   "execution_count": null,
   "id": "e02fe244-49fc-4272-bf5b-00c4ecad0d1a",
   "metadata": {},
   "outputs": [],
   "source": []
  },
  {
   "cell_type": "code",
   "execution_count": null,
   "id": "b53c8169-46fc-4ce5-bac4-d89f921b5314",
   "metadata": {},
   "outputs": [],
   "source": []
  },
  {
   "cell_type": "markdown",
   "id": "0e8b9a16-a35b-427f-8967-7b47212b998c",
   "metadata": {},
   "source": [
    "# ***Fashion MNIST***\n",
    "-------------------"
   ]
  },
  {
   "cell_type": "markdown",
   "id": "24c34f0d-ebf8-4aa5-9152-d55ea009f3af",
   "metadata": {},
   "source": [
    "![FASHION-MNIST](./Fashion-MNIST/fashion-mnist-sprite.png)"
   ]
  },
  {
   "cell_type": "code",
   "execution_count": 103,
   "id": "4bb55636-34fe-47d9-a1a0-6802a8676f85",
   "metadata": {
    "execution": {
     "iopub.execute_input": "2024-01-21T15:17:25.796237Z",
     "iopub.status.busy": "2024-01-21T15:17:25.796237Z",
     "iopub.status.idle": "2024-01-21T15:17:25.804925Z",
     "shell.execute_reply": "2024-01-21T15:17:25.804412Z",
     "shell.execute_reply.started": "2024-01-21T15:17:25.796237Z"
    }
   },
   "outputs": [
    {
     "data": {
      "text/plain": [
       "['fashion-mnist-sprite.png',\n",
       " 't10k-images-idx3-ubyte',\n",
       " 't10k-labels-idx1-ubyte',\n",
       " 'train-images-idx3-ubyte',\n",
       " 'train-labels-idx1-ubyte']"
      ]
     },
     "execution_count": 103,
     "metadata": {},
     "output_type": "execute_result"
    }
   ],
   "source": [
    "# there are 4 pieces of data\n",
    "# a training images set, training labels, test set of images and test labels\n",
    "\n",
    "os.listdir(r\"./Fashion-MNIST/\")"
   ]
  },
  {
   "cell_type": "code",
   "execution_count": 28,
   "id": "c923f7bf-1681-4d01-ad7c-43559e248d1f",
   "metadata": {
    "execution": {
     "iopub.execute_input": "2024-01-21T14:11:10.339346Z",
     "iopub.status.busy": "2024-01-21T14:11:10.323856Z",
     "iopub.status.idle": "2024-01-21T14:11:10.341955Z",
     "shell.execute_reply": "2024-01-21T14:11:10.341955Z",
     "shell.execute_reply.started": "2024-01-21T14:11:10.339346Z"
    }
   },
   "outputs": [],
   "source": [
    "# the datasets are binary files containing images as a string of 28 x 28 pixels"
   ]
  },
  {
   "cell_type": "code",
   "execution_count": 80,
   "id": "769fcb57-8fda-4642-a935-99acba0635a4",
   "metadata": {
    "execution": {
     "iopub.execute_input": "2024-01-21T21:36:50.937959Z",
     "iopub.status.busy": "2024-01-21T21:36:50.937959Z",
     "iopub.status.idle": "2024-01-21T21:36:51.074547Z",
     "shell.execute_reply": "2024-01-21T21:36:51.074547Z",
     "shell.execute_reply.started": "2024-01-21T21:36:50.937959Z"
    }
   },
   "outputs": [],
   "source": [
    "# the files prefixed with t10k contain the test data for 10,000 items (images and labels)\n",
    "# each image is a 28 x 28 pixel greyscale image \n",
    "# and there are 10 different labels\n",
    "\n",
    "fmnist: list[NDArray[np.uint8]] = []\n",
    "\n",
    "for file in os.listdir(r\"./Fashion-MNIST/\")[1:]:\n",
    "    with open(f\"./Fashion-MNIST/{file}\", \"rb\") as fp:\n",
    "        fmnist.append(np.fromfile(fp, dtype = np.uint8))"
   ]
  },
  {
   "cell_type": "code",
   "execution_count": null,
   "id": "dc98c961-b1f6-4259-8604-e4372b85438e",
   "metadata": {},
   "outputs": [],
   "source": []
  },
  {
   "cell_type": "code",
   "execution_count": null,
   "id": "6f2221c1-e977-4b87-9397-79b4f07a921b",
   "metadata": {},
   "outputs": [],
   "source": []
  },
  {
   "cell_type": "code",
   "execution_count": 32,
   "id": "d766c9c2-e711-44dd-9197-db59724b3ccf",
   "metadata": {
    "execution": {
     "iopub.execute_input": "2024-01-21T14:11:13.083353Z",
     "iopub.status.busy": "2024-01-21T14:11:13.083353Z",
     "iopub.status.idle": "2024-01-21T14:11:13.094673Z",
     "shell.execute_reply": "2024-01-21T14:11:13.094019Z",
     "shell.execute_reply.started": "2024-01-21T14:11:13.083353Z"
    }
   },
   "outputs": [
    {
     "data": {
      "text/plain": [
       "47040000"
      ]
     },
     "execution_count": 32,
     "metadata": {},
     "output_type": "execute_result"
    }
   ],
   "source": [
    "# so it turns out we just have pixel values in 8 bits\n",
    "# the training dataset contains 60,000 such images\n",
    "\n",
    "60_000 * 28 * 28"
   ]
  },
  {
   "cell_type": "code",
   "execution_count": 39,
   "id": "a75d9dfe-478b-44c0-8f11-f7d2695b5012",
   "metadata": {
    "execution": {
     "iopub.execute_input": "2024-01-21T14:12:32.991704Z",
     "iopub.status.busy": "2024-01-21T14:12:32.991704Z",
     "iopub.status.idle": "2024-01-21T14:12:33.082081Z",
     "shell.execute_reply": "2024-01-21T14:12:33.082081Z",
     "shell.execute_reply.started": "2024-01-21T14:12:32.991704Z"
    }
   },
   "outputs": [
    {
     "data": {
      "image/png": "[encoded data removed]",
      "text/plain": [
       "<Figure size 640x480 with 1 Axes>"
      ]
     },
     "metadata": {},
     "output_type": "display_data"
    }
   ],
   "source": [
    "# https://matplotlib.org/stable/users/explain/colors/colormaps.html\n",
    "# looks like a shoe \n",
    "\n",
    "plt.imshow(train_x[16:][: 28 * 28].reshape(28, 28), cmap = \"binary\")\n",
    "plt.show()"
   ]
  },
  {
   "cell_type": "code",
   "execution_count": 104,
   "id": "b36385f8-38c4-4559-b3df-b682d2385e08",
   "metadata": {
    "execution": {
     "iopub.execute_input": "2024-01-21T22:07:34.739490Z",
     "iopub.status.busy": "2024-01-21T22:07:34.739490Z",
     "iopub.status.idle": "2024-01-21T22:07:34.751106Z",
     "shell.execute_reply": "2024-01-21T22:07:34.751106Z",
     "shell.execute_reply.started": "2024-01-21T22:07:34.739490Z"
    }
   },
   "outputs": [],
   "source": [
    "# labels seem to be binary ASCII values separated by tabs (\\t)\n"
   ]
  }
 ],
 "metadata": {
  "kernelspec": {
   "display_name": "Python 3 (ipykernel)",
   "language": "python",
   "name": "python3"
  },
  "language_info": {
   "codemirror_mode": {
    "name": "ipython",
    "version": 3
   },
   "file_extension": ".py",
   "mimetype": "text/x-python",
   "name": "python",
   "nbconvert_exporter": "python",
   "pygments_lexer": "ipython3",
   "version": "3.11.7"
  }
 },
 "nbformat": 4,
 "nbformat_minor": 5
}
