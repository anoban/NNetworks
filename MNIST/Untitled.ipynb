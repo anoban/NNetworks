{
 "cells": [
  {
   "cell_type": "code",
   "execution_count": 3,
   "id": "57feee96-47f0-4813-848a-96ba43512839",
   "metadata": {
    "execution": {
     "iopub.execute_input": "2024-02-27T15:04:18.409585Z",
     "iopub.status.busy": "2024-02-27T15:04:18.409585Z",
     "iopub.status.idle": "2024-02-27T15:04:18.414021Z",
     "shell.execute_reply": "2024-02-27T15:04:18.413905Z",
     "shell.execute_reply.started": "2024-02-27T15:04:18.409585Z"
    }
   },
   "outputs": [],
   "source": [
    "import numpy as np\n",
    "from numpy.typing import NDArray"
   ]
  },
  {
   "cell_type": "code",
   "execution_count": 23,
   "id": "82923fd5-da58-4faf-91fc-6d9d5b4e1c34",
   "metadata": {
    "execution": {
     "iopub.execute_input": "2024-02-27T15:09:19.553260Z",
     "iopub.status.busy": "2024-02-27T15:09:19.553260Z",
     "iopub.status.idle": "2024-02-27T15:09:19.561261Z",
     "shell.execute_reply": "2024-02-27T15:09:19.560745Z",
     "shell.execute_reply.started": "2024-02-27T15:09:19.553260Z"
    }
   },
   "outputs": [
    {
     "name": "stdout",
     "output_type": "stream",
     "text": [
      "[ 10 784  10   1  10  10  10   1]\n"
     ]
    }
   ],
   "source": [
    "with open(r\"./mnist.nnm\", mode = \"rb\") as fp:\n",
    "            coeffs: NDArray[np.float64] = np.load(fp)   # np.load() is used to load in binary files serialized with np.save() method.\n",
    "\n",
    "caret: int = 0  # use this as a moving caret that points to the offset where the next subscriting should begin.\n",
    "\n",
    "Wrows, Wcols, Brows, Bcols, wrows, wcols, brows, bcols = coeffs[:8].astype(np.uint64)\n",
    "print(coeffs[:8].astype(np.uint64))\n",
    "        \n",
    "caret += 8  \n",
    "winhid = coeffs[caret: int(caret + Wrows * Wcols)].reshape(Wrows, Wcols)\n",
    "caret += int(Wrows * Wcols)\n",
    "bhid = coeffs[caret: int(caret + Brows * Bcols)].reshape(Brows, Bcols)\n",
    "caret += int(Brows * Bcols)\n",
    "whidout = coeffs[caret: int(caret + wrows * wcols)].reshape(wrows, wcols)\n",
    "caret += int(wrows * wcols)\n",
    "bout = coeffs[caret: int(caret + brows * bcols)].reshape(brows, bcols)\n",
    "caret += int(brows * bcols)"
   ]
  },
  {
   "cell_type": "code",
   "execution_count": 24,
   "id": "a8aab1d0-9535-4939-9f4e-ff739eb31398",
   "metadata": {
    "execution": {
     "iopub.execute_input": "2024-02-27T15:09:20.673395Z",
     "iopub.status.busy": "2024-02-27T15:09:20.673395Z",
     "iopub.status.idle": "2024-02-27T15:09:20.679370Z",
     "shell.execute_reply": "2024-02-27T15:09:20.678361Z",
     "shell.execute_reply.started": "2024-02-27T15:09:20.673395Z"
    }
   },
   "outputs": [
    {
     "data": {
      "text/plain": [
       "7968"
      ]
     },
     "execution_count": 24,
     "metadata": {},
     "output_type": "execute_result"
    }
   ],
   "source": [
    "caret"
   ]
  },
  {
   "cell_type": "code",
   "execution_count": 25,
   "id": "7b307b63-fe72-446c-8640-642e9e26442a",
   "metadata": {
    "execution": {
     "iopub.execute_input": "2024-02-27T15:09:23.317963Z",
     "iopub.status.busy": "2024-02-27T15:09:23.316968Z",
     "iopub.status.idle": "2024-02-27T15:09:23.324709Z",
     "shell.execute_reply": "2024-02-27T15:09:23.324104Z",
     "shell.execute_reply.started": "2024-02-27T15:09:23.317963Z"
    }
   },
   "outputs": [
    {
     "data": {
      "text/plain": [
       "(10, 784, 10, 1, 10, 10, 10, 1)"
      ]
     },
     "execution_count": 25,
     "metadata": {},
     "output_type": "execute_result"
    }
   ],
   "source": [
    "Wrows, Wcols, Brows, Bcols, wrows, wcols, brows, bcols"
   ]
  },
  {
   "cell_type": "code",
   "execution_count": 27,
   "id": "2ff3fa76-dbd8-42f2-bad1-75615ec5cb81",
   "metadata": {
    "execution": {
     "iopub.execute_input": "2024-02-27T15:10:53.619148Z",
     "iopub.status.busy": "2024-02-27T15:10:53.618148Z",
     "iopub.status.idle": "2024-02-27T15:10:53.626690Z",
     "shell.execute_reply": "2024-02-27T15:10:53.625683Z",
     "shell.execute_reply.started": "2024-02-27T15:10:53.619148Z"
    }
   },
   "outputs": [
    {
     "data": {
      "text/plain": [
       "7968"
      ]
     },
     "execution_count": 27,
     "metadata": {},
     "output_type": "execute_result"
    }
   ],
   "source": [
    "coeffs.size"
   ]
  },
  {
   "cell_type": "code",
   "execution_count": 22,
   "id": "82480991-8e6e-43db-9062-1391dbba7eb8",
   "metadata": {
    "execution": {
     "iopub.execute_input": "2024-02-27T15:08:39.427004Z",
     "iopub.status.busy": "2024-02-27T15:08:39.426004Z",
     "iopub.status.idle": "2024-02-27T15:08:39.432049Z",
     "shell.execute_reply": "2024-02-27T15:08:39.431877Z",
     "shell.execute_reply.started": "2024-02-27T15:08:39.427004Z"
    }
   },
   "outputs": [
    {
     "data": {
      "text/plain": [
       "7958"
      ]
     },
     "execution_count": 22,
     "metadata": {},
     "output_type": "execute_result"
    }
   ],
   "source": [
    "caret"
   ]
  },
  {
   "cell_type": "code",
   "execution_count": null,
   "id": "8c02590f-fa6a-43b8-aa30-5c1ed59c2a58",
   "metadata": {},
   "outputs": [],
   "source": []
  }
 ],
 "metadata": {
  "kernelspec": {
   "display_name": "Python 3 (ipykernel)",
   "language": "python",
   "name": "python3"
  },
  "language_info": {
   "codemirror_mode": {
    "name": "ipython",
    "version": 3
   },
   "file_extension": ".py",
   "mimetype": "text/x-python",
   "name": "python",
   "nbconvert_exporter": "python",
   "pygments_lexer": "ipython3",
   "version": "3.11.8"
  }
 },
 "nbformat": 4,
 "nbformat_minor": 5
}
